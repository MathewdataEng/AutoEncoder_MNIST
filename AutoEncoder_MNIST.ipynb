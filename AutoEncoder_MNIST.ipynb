{
 "cells": [
  {
   "cell_type": "code",
   "execution_count": 2,
   "metadata": {},
   "outputs": [],
   "source": [
    "import numpy as np\n",
    "import torch\n",
    "from torch import nn\n",
    "\n",
    "import matplotlib.pyplot as plt\n",
    "from torch.autograd import Variable\n",
    "from tqdm.notebook import tqdm"
   ]
  },
  {
   "cell_type": "code",
   "execution_count": 3,
   "metadata": {},
   "outputs": [],
   "source": [
    "torch.cuda.empty_cache()"
   ]
  },
  {
   "cell_type": "markdown",
   "metadata": {},
   "source": [
    "# Load Data"
   ]
  },
  {
   "cell_type": "code",
   "execution_count": 4,
   "metadata": {},
   "outputs": [],
   "source": [
    "train_images = np.load('/space/data/mnist/train_data.npy')\n",
    "mean = np.mean(train_images)\n",
    "std = np.std(train_images)\n",
    "train_images = (train_images - mean)/std\n",
    "# train_labels = np.load('/space/data/mnist/train_labels.npy')\n",
    "val_images = np.load('/space/data/mnist/val_data.npy')\n",
    "val_images = (val_images - mean)/std"
   ]
  },
  {
   "cell_type": "code",
   "execution_count": 4,
   "metadata": {},
   "outputs": [
    {
     "data": {
      "text/plain": [
       "array([[-0.42407389, -0.42407389, -0.42407389, -0.42407389, -0.42407389,\n",
       "        -0.42407389, -0.42407389, -0.42407389, -0.42407389, -0.42407389,\n",
       "        -0.42407389, -0.42407389, -0.42407389, -0.42407389, -0.42407389,\n",
       "        -0.42407389, -0.42407389, -0.42407389, -0.42407389, -0.42407389,\n",
       "        -0.42407389, -0.42407389, -0.42407389, -0.42407389, -0.42407389,\n",
       "        -0.42407389, -0.42407389, -0.42407389],\n",
       "       [-0.42407389, -0.42407389, -0.42407389, -0.42407389, -0.42407389,\n",
       "        -0.42407389, -0.42407389, -0.42407389, -0.42407389, -0.42407389,\n",
       "        -0.42407389, -0.42407389, -0.42407389, -0.42407389, -0.42407389,\n",
       "        -0.42407389, -0.42407389, -0.42407389, -0.42407389, -0.42407389,\n",
       "        -0.42407389, -0.42407389, -0.42407389, -0.42407389, -0.42407389,\n",
       "        -0.42407389, -0.42407389, -0.42407389],\n",
       "       [-0.42407389, -0.42407389, -0.42407389, -0.42407389, -0.42407389,\n",
       "        -0.42407389, -0.42407389, -0.42407389, -0.42407389, -0.42407389,\n",
       "        -0.42407389, -0.42407389, -0.42407389, -0.42407389, -0.42407389,\n",
       "        -0.42407389, -0.42407389, -0.42407389, -0.42407389, -0.42407389,\n",
       "        -0.42407389, -0.42407389, -0.42407389, -0.42407389, -0.42407389,\n",
       "        -0.42407389, -0.42407389, -0.42407389],\n",
       "       [-0.42407389, -0.42407389, -0.42407389, -0.42407389, -0.42407389,\n",
       "        -0.42407389, -0.42407389, -0.42407389, -0.42407389, -0.42407389,\n",
       "        -0.42407389, -0.42407389, -0.42407389, -0.42407389, -0.42407389,\n",
       "        -0.42407389, -0.42407389, -0.42407389, -0.42407389, -0.42407389,\n",
       "        -0.42407389, -0.42407389, -0.42407389, -0.42407389, -0.42407389,\n",
       "        -0.42407389, -0.42407389, -0.42407389],\n",
       "       [-0.42407389, -0.42407389, -0.42407389, -0.42407389, -0.42407389,\n",
       "        -0.42407389, -0.42407389, -0.42407389, -0.42407389, -0.42407389,\n",
       "        -0.42407389, -0.42407389, -0.42407389, -0.42407389, -0.42407389,\n",
       "         0.22504955,  1.59966391,  2.79608752,  1.59966391,  0.21232164,\n",
       "        -0.42407389, -0.42407389, -0.42407389, -0.42407389, -0.42407389,\n",
       "        -0.42407389, -0.42407389, -0.42407389],\n",
       "       [-0.42407389, -0.42407389, -0.42407389, -0.42407389, -0.42407389,\n",
       "        -0.42407389, -0.42407389, -0.42407389, -0.42407389, -0.42407389,\n",
       "        -0.42407389, -0.42407389, -0.42407389, -0.42407389,  0.18686582,\n",
       "         2.60516886,  2.78335961,  2.78335961,  2.78335961,  2.59244095,\n",
       "        -0.42407389, -0.42407389, -0.42407389, -0.42407389, -0.42407389,\n",
       "        -0.42407389, -0.42407389, -0.42407389],\n",
       "       [-0.42407389, -0.42407389, -0.42407389, -0.42407389, -0.42407389,\n",
       "        -0.42407389, -0.42407389, -0.42407389, -0.42407389, -0.42407389,\n",
       "        -0.42407389, -0.42407389, -0.42407389,  0.26323329,  2.46516184,\n",
       "         2.79608752,  2.78335961,  2.61789677,  2.54152931,  2.78335961,\n",
       "         0.30141702, -0.34770643, -0.42407389, -0.42407389, -0.42407389,\n",
       "        -0.42407389, -0.42407389, -0.42407389],\n",
       "       [-0.42407389, -0.42407389, -0.42407389, -0.42407389, -0.42407389,\n",
       "        -0.42407389, -0.42407389, -0.42407389, -0.42407389, -0.42407389,\n",
       "        -0.42407389, -0.29679479,  0.33960075,  2.42697811,  2.78335961,\n",
       "         2.79608752,  2.78335961,  2.14696408,  0.64507061,  2.78335961,\n",
       "         2.79608752,  1.12873122, -0.42407389, -0.42407389, -0.42407389,\n",
       "        -0.42407389, -0.42407389, -0.42407389],\n",
       "       [-0.42407389, -0.42407389, -0.42407389, -0.42407389, -0.42407389,\n",
       "        -0.42407389, -0.42407389, -0.42407389, -0.42407389, -0.42407389,\n",
       "        -0.42407389,  1.65057556,  2.78335961,  2.78335961,  2.78335961,\n",
       "         2.79608752,  2.78335961,  2.78335961,  0.79780554,  1.98150124,\n",
       "         2.79608752,  1.7014872 , -0.42407389, -0.42407389, -0.42407389,\n",
       "        -0.42407389, -0.42407389, -0.42407389],\n",
       "       [-0.42407389, -0.42407389, -0.42407389, -0.42407389, -0.42407389,\n",
       "        -0.42407389, -0.42407389, -0.42407389, -0.42407389, -0.42407389,\n",
       "         0.22504955,  2.60516886,  2.79608752,  2.79608752,  1.99422915,\n",
       "         1.02690793,  2.79608752,  2.47788976,  0.17413791,  0.58143105,\n",
       "         2.82154335,  1.71421511, -0.42407389, -0.42407389, -0.42407389,\n",
       "        -0.42407389, -0.42407389, -0.42407389],\n",
       "       [-0.42407389, -0.42407389, -0.42407389, -0.42407389, -0.42407389,\n",
       "        -0.42407389, -0.42407389, -0.42407389, -0.42407389,  0.18686582,\n",
       "         2.60516886,  2.78335961,  2.78335961,  1.85422213, -0.27133897,\n",
       "         0.53051941,  1.11600331, -0.15678777, -0.42407389, -0.42407389,\n",
       "         2.79608752,  2.66880842,  0.21232164, -0.42407389, -0.42407389,\n",
       "        -0.42407389, -0.42407389, -0.42407389],\n",
       "       [-0.42407389, -0.42407389, -0.42407389, -0.42407389, -0.42407389,\n",
       "        -0.42407389, -0.42407389, -0.42407389,  0.05958671,  1.67603138,\n",
       "         2.79608752,  2.54152931,  2.22333154,  0.64507061, -0.42407389,\n",
       "        -0.42407389, -0.42407389, -0.42407389, -0.42407389, -0.42407389,\n",
       "         2.79608752,  2.78335961,  1.67603138, -0.42407389, -0.42407389,\n",
       "        -0.42407389, -0.42407389, -0.42407389],\n",
       "       [-0.42407389, -0.42407389, -0.42407389, -0.42407389, -0.42407389,\n",
       "        -0.42407389, -0.42407389, -0.33497852,  1.84149422,  2.78335961,\n",
       "         2.63062468,  0.47960777, -0.18224359, -0.06769239, -0.42407389,\n",
       "        -0.42407389, -0.42407389, -0.42407389, -0.42407389, -0.42407389,\n",
       "         2.79608752,  2.78335961,  2.0578687 , -0.42407389, -0.42407389,\n",
       "        -0.42407389, -0.42407389, -0.42407389],\n",
       "       [-0.42407389, -0.42407389, -0.42407389, -0.42407389, -0.42407389,\n",
       "        -0.42407389, -0.42407389,  0.30141702,  2.78335961,  2.78335961,\n",
       "         0.37778448, -0.42407389, -0.42407389, -0.42407389, -0.42407389,\n",
       "        -0.42407389, -0.42407389, -0.42407389, -0.42407389, -0.42407389,\n",
       "         2.79608752,  2.78335961,  2.0578687 , -0.42407389, -0.42407389,\n",
       "        -0.42407389, -0.42407389, -0.42407389],\n",
       "       [-0.42407389, -0.42407389, -0.42407389, -0.42407389, -0.42407389,\n",
       "        -0.42407389, -0.42407389,  2.09605243,  2.79608752,  1.99422915,\n",
       "        -0.42407389, -0.42407389, -0.42407389, -0.42407389, -0.42407389,\n",
       "        -0.42407389, -0.42407389, -0.42407389, -0.42407389, -0.42407389,\n",
       "         2.82154335,  2.79608752,  2.07059661, -0.42407389, -0.42407389,\n",
       "        -0.42407389, -0.42407389, -0.42407389],\n",
       "       [-0.42407389, -0.42407389, -0.42407389, -0.42407389, -0.42407389,\n",
       "        -0.42407389,  0.54324732,  2.70699215,  2.78335961,  1.00145211,\n",
       "        -0.42407389, -0.42407389, -0.42407389, -0.42407389, -0.42407389,\n",
       "        -0.42407389, -0.42407389, -0.42407389, -0.42407389, -0.42407389,\n",
       "         2.79608752,  2.78335961,  1.4596569 , -0.42407389, -0.42407389,\n",
       "        -0.42407389, -0.42407389, -0.42407389],\n",
       "       [-0.42407389, -0.42407389, -0.42407389, -0.42407389, -0.42407389,\n",
       "        -0.42407389,  0.65779852,  2.78335961,  2.50334558, -0.10587613,\n",
       "        -0.42407389, -0.42407389, -0.42407389, -0.42407389, -0.42407389,\n",
       "        -0.42407389, -0.42407389, -0.42407389, -0.33497852,  1.29419406,\n",
       "         2.79608752,  1.9433175 , -0.27133897, -0.42407389, -0.42407389,\n",
       "        -0.42407389, -0.42407389, -0.42407389],\n",
       "       [-0.42407389, -0.42407389, -0.42407389, -0.42407389, -0.42407389,\n",
       "        -0.42407389,  0.65779852,  2.78335961,  2.4142502 , -0.42407389,\n",
       "        -0.42407389, -0.42407389, -0.42407389, -0.42407389, -0.42407389,\n",
       "        -0.42407389, -0.42407389, -0.33497852,  1.24328241,  2.78335961,\n",
       "         2.43970602,  0.47960777, -0.42407389, -0.42407389, -0.42407389,\n",
       "        -0.42407389, -0.42407389, -0.42407389],\n",
       "       [-0.42407389, -0.42407389, -0.42407389, -0.42407389, -0.42407389,\n",
       "        -0.42407389,  0.65779852,  2.78335961,  1.42147316, -0.42407389,\n",
       "        -0.42407389, -0.42407389, -0.42407389, -0.42407389, -0.42407389,\n",
       "        -0.42407389,  0.18686582,  1.67603138,  2.78335961,  1.77785466,\n",
       "        -0.42407389, -0.42407389, -0.42407389, -0.42407389, -0.42407389,\n",
       "        -0.42407389, -0.42407389, -0.42407389],\n",
       "       [-0.42407389, -0.42407389, -0.42407389, -0.42407389, -0.42407389,\n",
       "        -0.42407389,  0.67052643,  2.79608752,  2.43970602, -0.42407389,\n",
       "        -0.42407389, -0.42407389, -0.42407389, -0.42407389, -0.42407389,\n",
       "         1.02690793,  2.60516886,  2.79608752,  1.63784765, -0.42407389,\n",
       "        -0.42407389, -0.42407389, -0.42407389, -0.42407389, -0.42407389,\n",
       "        -0.42407389, -0.42407389, -0.42407389],\n",
       "       [-0.42407389, -0.42407389, -0.42407389, -0.42407389, -0.42407389,\n",
       "        -0.42407389,  0.65779852,  2.78335961,  2.74517588,  1.43420107,\n",
       "         0.18686582, -0.05496448,  0.65779852,  1.84149422,  2.43970602,\n",
       "         2.79608752,  2.4142502 ,  1.7014872 ,  0.28868911, -0.42407389,\n",
       "        -0.42407389, -0.42407389, -0.42407389, -0.42407389, -0.42407389,\n",
       "        -0.42407389, -0.42407389, -0.42407389],\n",
       "       [-0.42407389, -0.42407389, -0.42407389, -0.42407389, -0.42407389,\n",
       "        -0.42407389,  0.65779852,  2.78335961,  2.78335961,  2.78335961,\n",
       "         2.49061767,  2.31242692,  2.78335961,  2.78335961,  2.78335961,\n",
       "         2.07059661,  1.2305545 , -0.42407389, -0.42407389, -0.42407389,\n",
       "        -0.42407389, -0.42407389, -0.42407389, -0.42407389, -0.42407389,\n",
       "        -0.42407389, -0.42407389, -0.42407389],\n",
       "       [-0.42407389, -0.42407389, -0.42407389, -0.42407389, -0.42407389,\n",
       "        -0.42407389, -0.06769239,  2.10878034,  2.78335961,  2.78335961,\n",
       "         2.79608752,  2.78335961,  2.78335961,  2.54152931,  1.42147316,\n",
       "        -0.42407389, -0.42407389, -0.42407389, -0.42407389, -0.42407389,\n",
       "        -0.42407389, -0.42407389, -0.42407389, -0.42407389, -0.42407389,\n",
       "        -0.42407389, -0.42407389, -0.42407389],\n",
       "       [-0.42407389, -0.42407389, -0.42407389, -0.42407389, -0.42407389,\n",
       "        -0.42407389, -0.42407389, -0.10587613,  1.20509868,  2.78335961,\n",
       "         2.79608752,  2.78335961,  1.37056152,  0.0468588 , -0.42407389,\n",
       "        -0.42407389, -0.42407389, -0.42407389, -0.42407389, -0.42407389,\n",
       "        -0.42407389, -0.42407389, -0.42407389, -0.42407389, -0.42407389,\n",
       "        -0.42407389, -0.42407389, -0.42407389],\n",
       "       [-0.42407389, -0.42407389, -0.42407389, -0.42407389, -0.42407389,\n",
       "        -0.42407389, -0.42407389, -0.42407389, -0.42407389, -0.42407389,\n",
       "        -0.42407389, -0.42407389, -0.42407389, -0.42407389, -0.42407389,\n",
       "        -0.42407389, -0.42407389, -0.42407389, -0.42407389, -0.42407389,\n",
       "        -0.42407389, -0.42407389, -0.42407389, -0.42407389, -0.42407389,\n",
       "        -0.42407389, -0.42407389, -0.42407389],\n",
       "       [-0.42407389, -0.42407389, -0.42407389, -0.42407389, -0.42407389,\n",
       "        -0.42407389, -0.42407389, -0.42407389, -0.42407389, -0.42407389,\n",
       "        -0.42407389, -0.42407389, -0.42407389, -0.42407389, -0.42407389,\n",
       "        -0.42407389, -0.42407389, -0.42407389, -0.42407389, -0.42407389,\n",
       "        -0.42407389, -0.42407389, -0.42407389, -0.42407389, -0.42407389,\n",
       "        -0.42407389, -0.42407389, -0.42407389],\n",
       "       [-0.42407389, -0.42407389, -0.42407389, -0.42407389, -0.42407389,\n",
       "        -0.42407389, -0.42407389, -0.42407389, -0.42407389, -0.42407389,\n",
       "        -0.42407389, -0.42407389, -0.42407389, -0.42407389, -0.42407389,\n",
       "        -0.42407389, -0.42407389, -0.42407389, -0.42407389, -0.42407389,\n",
       "        -0.42407389, -0.42407389, -0.42407389, -0.42407389, -0.42407389,\n",
       "        -0.42407389, -0.42407389, -0.42407389],\n",
       "       [-0.42407389, -0.42407389, -0.42407389, -0.42407389, -0.42407389,\n",
       "        -0.42407389, -0.42407389, -0.42407389, -0.42407389, -0.42407389,\n",
       "        -0.42407389, -0.42407389, -0.42407389, -0.42407389, -0.42407389,\n",
       "        -0.42407389, -0.42407389, -0.42407389, -0.42407389, -0.42407389,\n",
       "        -0.42407389, -0.42407389, -0.42407389, -0.42407389, -0.42407389,\n",
       "        -0.42407389, -0.42407389, -0.42407389]])"
      ]
     },
     "execution_count": 4,
     "metadata": {},
     "output_type": "execute_result"
    }
   ],
   "source": [
    "train_images[1]"
   ]
  },
  {
   "cell_type": "code",
   "execution_count": 5,
   "metadata": {},
   "outputs": [],
   "source": [
    "# Move the new model to the desired device\n",
    "device = torch.device(\"cuda\" if torch.cuda.is_available() else \"cpu\")"
   ]
  },
  {
   "cell_type": "code",
   "execution_count": 6,
   "metadata": {},
   "outputs": [],
   "source": [
    "BATCH_SIZE = 640\n",
    "torch_X_train = torch.from_numpy(train_images).type(torch.LongTensor)\n",
    "torch_X_test = torch.from_numpy(val_images).type(torch.LongTensor)\n",
    "\n",
    "#expand dim for cnn\n",
    "torch_X_train = torch_X_train.view(-1, 1,28,28).float()\n",
    "torch_X_test = torch_X_test.view(-1,1,28,28).float()\n",
    "\n",
    "\n",
    "# data loader\n",
    "trainloader = torch.utils.data.DataLoader(torch_X_train, batch_size = BATCH_SIZE, shuffle = True)\n",
    "test_loader = torch.utils.data.DataLoader(torch_X_test, batch_size = 20, shuffle = True)"
   ]
  },
  {
   "cell_type": "code",
   "execution_count": 7,
   "metadata": {},
   "outputs": [
    {
     "name": "stdout",
     "output_type": "stream",
     "text": [
      "Total number of batches in trainloader: = 94\n",
      "Total number of batches in testloader: = 500\n"
     ]
    }
   ],
   "source": [
    "print(\"Total number of batches in trainloader: = {}\".format(len(trainloader)))\n",
    "print(\"Total number of batches in testloader: = {}\".format(len(test_loader)))"
   ]
  },
  {
   "cell_type": "markdown",
   "metadata": {},
   "source": [
    "# Model Architecture"
   ]
  },
  {
   "cell_type": "markdown",
   "metadata": {},
   "source": [
    "## Encoder Architecture"
   ]
  },
  {
   "cell_type": "code",
   "execution_count": 7,
   "metadata": {},
   "outputs": [],
   "source": [
    "def get_encoder_block(in_channels, out_channels,kernel_size, stride,padding=0):\n",
    "    return nn.Sequential(\n",
    "        nn.Conv2d(in_channels,out_channels, kernel_size,stride,padding),\n",
    "        nn.BatchNorm2d(out_channels),\n",
    "        nn.LeakyReLU(0.2)\n",
    "    )"
   ]
  },
  {
   "cell_type": "code",
   "execution_count": 8,
   "metadata": {},
   "outputs": [],
   "source": [
    "class Encoder(nn.Module):\n",
    "    def __init__(self):\n",
    "        super(Encoder, self).__init__()\n",
    "        self.block_1 = get_encoder_block(1,16,(3,3),1)\n",
    "        self.block_2 = get_encoder_block(16,32,(3,3),1)\n",
    "        self.block_3 = get_encoder_block(32,64,(3,3),1)\n",
    "        \n",
    "        self.flatten = nn.Flatten()\n",
    "        self.linear1 = nn.Linear(in_features = 30976, out_features = 15488)\n",
    "        self.linear2 = nn.Linear(in_features = 15488, out_features = 32)\n",
    "    \n",
    "    def forward(self,images):\n",
    "        out = self.block_1(images)\n",
    "        out = self.block_2(out)\n",
    "        out = self.block_3(out)\n",
    "#         print(out.shape)\n",
    "        out = self.flatten(out)\n",
    "        out = self.linear1(out)\n",
    "        out = self.linear2(out)\n",
    "        \n",
    "        return out"
   ]
  },
  {
   "cell_type": "markdown",
   "metadata": {},
   "source": [
    "## Decoder Architecture"
   ]
  },
  {
   "cell_type": "code",
   "execution_count": 9,
   "metadata": {},
   "outputs": [],
   "source": [
    "def get_decoder_block(in_channels, out_channels, kernel_size, stride, padding=0):\n",
    "    return nn.Sequential(\n",
    "        nn.ConvTranspose2d(in_channels, out_channels, kernel_size, stride, padding),\n",
    "        nn.BatchNorm2d(out_channels),\n",
    "        nn.LeakyReLU(0.2)\n",
    "    )\n"
   ]
  },
  {
   "cell_type": "code",
   "execution_count": 10,
   "metadata": {},
   "outputs": [],
   "source": [
    "class Decoder(nn.Module):\n",
    "    def __init__(self):\n",
    "        super(Decoder, self).__init__()\n",
    "        self.linear1 = nn.Linear(in_features=32, out_features=15488)\n",
    "        self.linear2 = nn.Linear(in_features=15488, out_features=30976)\n",
    "\n",
    "        # Define transpose convolutional layers (deconvolutional layers)\n",
    "        self.deconv_3 = get_decoder_block(64, 32, kernel_size=(3, 3), stride=1)\n",
    "        self.deconv_2 = get_decoder_block(32, 16, kernel_size=(3, 3), stride=1)\n",
    "        self.deconv_1 = get_decoder_block(16, 1, kernel_size=(3, 3), stride=1)  # Adjust the kernel size and stride\n",
    "\n",
    "    def forward(self, encoded_features):\n",
    "        out = self.linear1(encoded_features)\n",
    "        out = self.linear2(out)\n",
    "        out = out.view(-1, 64, 22, 22)  # Reshape to match the shape of the last convolutional layer in the encoder\n",
    "        out = self.deconv_3(out)\n",
    "        out = self.deconv_2(out)\n",
    "        out = self.deconv_1(out)\n",
    "        return out"
   ]
  },
  {
   "cell_type": "markdown",
   "metadata": {},
   "source": [
    "## AutoEncoder Architecture"
   ]
  },
  {
   "cell_type": "code",
   "execution_count": 11,
   "metadata": {},
   "outputs": [],
   "source": [
    "class AE(nn.Module):\n",
    "    def __init__(self):\n",
    "        super(AE, self).__init__()\n",
    "        self.encoder = Encoder()\n",
    "        self.decoder = Decoder()\n",
    "    def forward(self,x):\n",
    "        encoded = self.encoder(x)\n",
    "        decoded = self.decoder(encoded)\n",
    "        return decoded"
   ]
  },
  {
   "cell_type": "code",
   "execution_count": 12,
   "metadata": {},
   "outputs": [
    {
     "data": {
      "text/plain": [
       "AE(\n",
       "  (encoder): Encoder(\n",
       "    (block_1): Sequential(\n",
       "      (0): Conv2d(1, 16, kernel_size=(3, 3), stride=(1, 1))\n",
       "      (1): BatchNorm2d(16, eps=1e-05, momentum=0.1, affine=True, track_running_stats=True)\n",
       "      (2): LeakyReLU(negative_slope=0.2)\n",
       "    )\n",
       "    (block_2): Sequential(\n",
       "      (0): Conv2d(16, 32, kernel_size=(3, 3), stride=(1, 1))\n",
       "      (1): BatchNorm2d(32, eps=1e-05, momentum=0.1, affine=True, track_running_stats=True)\n",
       "      (2): LeakyReLU(negative_slope=0.2)\n",
       "    )\n",
       "    (block_3): Sequential(\n",
       "      (0): Conv2d(32, 64, kernel_size=(3, 3), stride=(1, 1))\n",
       "      (1): BatchNorm2d(64, eps=1e-05, momentum=0.1, affine=True, track_running_stats=True)\n",
       "      (2): LeakyReLU(negative_slope=0.2)\n",
       "    )\n",
       "    (flatten): Flatten(start_dim=1, end_dim=-1)\n",
       "    (linear1): Linear(in_features=30976, out_features=15488, bias=True)\n",
       "    (linear2): Linear(in_features=15488, out_features=32, bias=True)\n",
       "  )\n",
       "  (decoder): Decoder(\n",
       "    (linear1): Linear(in_features=32, out_features=15488, bias=True)\n",
       "    (linear2): Linear(in_features=15488, out_features=30976, bias=True)\n",
       "    (deconv_3): Sequential(\n",
       "      (0): ConvTranspose2d(64, 32, kernel_size=(3, 3), stride=(1, 1))\n",
       "      (1): BatchNorm2d(32, eps=1e-05, momentum=0.1, affine=True, track_running_stats=True)\n",
       "      (2): LeakyReLU(negative_slope=0.2)\n",
       "    )\n",
       "    (deconv_2): Sequential(\n",
       "      (0): ConvTranspose2d(32, 16, kernel_size=(3, 3), stride=(1, 1))\n",
       "      (1): BatchNorm2d(16, eps=1e-05, momentum=0.1, affine=True, track_running_stats=True)\n",
       "      (2): LeakyReLU(negative_slope=0.2)\n",
       "    )\n",
       "    (deconv_1): Sequential(\n",
       "      (0): ConvTranspose2d(16, 1, kernel_size=(3, 3), stride=(1, 1))\n",
       "      (1): BatchNorm2d(1, eps=1e-05, momentum=0.1, affine=True, track_running_stats=True)\n",
       "      (2): LeakyReLU(negative_slope=0.2)\n",
       "    )\n",
       "  )\n",
       ")"
      ]
     },
     "execution_count": 12,
     "metadata": {},
     "output_type": "execute_result"
    }
   ],
   "source": [
    "# Model Initialization\n",
    "model = AE()\n",
    "model.to(device)"
   ]
  },
  {
   "cell_type": "markdown",
   "metadata": {},
   "source": [
    "## Create Loss Function and Load Optimize"
   ]
  },
  {
   "cell_type": "markdown",
   "metadata": {},
   "source": [
    "# Training"
   ]
  },
  {
   "cell_type": "code",
   "execution_count": 14,
   "metadata": {},
   "outputs": [],
   "source": [
    "def fit(model, train_loader):\n",
    "    optimizer = torch.optim.Adam(model.parameters(), lr=0.001)\n",
    "    error = nn.MSELoss()\n",
    "    EPOCHS = 50\n",
    "    best_loss = 100000000\n",
    "    for epoch in range(EPOCHS):\n",
    "        model.train()\n",
    "        running_loss = 0\n",
    "\n",
    "        for X_batch in tqdm(train_loader):\n",
    "            var_X_batch = Variable(X_batch).float().to(device)\n",
    "\n",
    "            optimizer.zero_grad()\n",
    "            fake_image = model(var_X_batch)\n",
    "            loss = error(fake_image, var_X_batch)\n",
    "            loss.backward()\n",
    "            optimizer.step()\n",
    "            running_loss += loss.item()\n",
    "\n",
    "        if running_loss < best_loss:\n",
    "            best_loss = running_loss\n",
    "            torch.save(model.state_dict(),\"Best_weight.pth\")\n",
    "            \n",
    "\n",
    "        print('Epoch : {} \\tLoss: {:.6f}'.format(epoch, running_loss))"
   ]
  },
  {
   "cell_type": "code",
   "execution_count": 15,
   "metadata": {},
   "outputs": [
    {
     "data": {
      "application/vnd.jupyter.widget-view+json": {
       "model_id": "f1243d20ee5a4e13a1f66b6e83773f0a",
       "version_major": 2,
       "version_minor": 0
      },
      "text/plain": [
       "  0%|          | 0/94 [00:00<?, ?it/s]"
      ]
     },
     "metadata": {},
     "output_type": "display_data"
    },
    {
     "name": "stdout",
     "output_type": "stream",
     "text": [
      "Epoch : 0 \tLoss: 30.736304\n"
     ]
    },
    {
     "data": {
      "application/vnd.jupyter.widget-view+json": {
       "model_id": "976038071c014b6db0d61e97baac9f69",
       "version_major": 2,
       "version_minor": 0
      },
      "text/plain": [
       "  0%|          | 0/94 [00:00<?, ?it/s]"
      ]
     },
     "metadata": {},
     "output_type": "display_data"
    },
    {
     "name": "stdout",
     "output_type": "stream",
     "text": [
      "Epoch : 1 \tLoss: 17.243953\n"
     ]
    },
    {
     "data": {
      "application/vnd.jupyter.widget-view+json": {
       "model_id": "28d90a1e00494ca3b124e41a0077f9db",
       "version_major": 2,
       "version_minor": 0
      },
      "text/plain": [
       "  0%|          | 0/94 [00:00<?, ?it/s]"
      ]
     },
     "metadata": {},
     "output_type": "display_data"
    },
    {
     "name": "stdout",
     "output_type": "stream",
     "text": [
      "Epoch : 2 \tLoss: 9.571496\n"
     ]
    },
    {
     "data": {
      "application/vnd.jupyter.widget-view+json": {
       "model_id": "c5af960b62eb4d98b61c7a0605c060f4",
       "version_major": 2,
       "version_minor": 0
      },
      "text/plain": [
       "  0%|          | 0/94 [00:00<?, ?it/s]"
      ]
     },
     "metadata": {},
     "output_type": "display_data"
    },
    {
     "name": "stdout",
     "output_type": "stream",
     "text": [
      "Epoch : 3 \tLoss: 6.155789\n"
     ]
    },
    {
     "data": {
      "application/vnd.jupyter.widget-view+json": {
       "model_id": "2f4aa48fe7934578ae9ab4231eb9ddef",
       "version_major": 2,
       "version_minor": 0
      },
      "text/plain": [
       "  0%|          | 0/94 [00:00<?, ?it/s]"
      ]
     },
     "metadata": {},
     "output_type": "display_data"
    },
    {
     "name": "stdout",
     "output_type": "stream",
     "text": [
      "Epoch : 4 \tLoss: 4.674207\n"
     ]
    },
    {
     "data": {
      "application/vnd.jupyter.widget-view+json": {
       "model_id": "07aa32a859a44a90abe15e176e61afc9",
       "version_major": 2,
       "version_minor": 0
      },
      "text/plain": [
       "  0%|          | 0/94 [00:00<?, ?it/s]"
      ]
     },
     "metadata": {},
     "output_type": "display_data"
    },
    {
     "name": "stdout",
     "output_type": "stream",
     "text": [
      "Epoch : 5 \tLoss: 3.857882\n"
     ]
    },
    {
     "data": {
      "application/vnd.jupyter.widget-view+json": {
       "model_id": "d0fcf39fc76b40a9a5690055aba9dcac",
       "version_major": 2,
       "version_minor": 0
      },
      "text/plain": [
       "  0%|          | 0/94 [00:00<?, ?it/s]"
      ]
     },
     "metadata": {},
     "output_type": "display_data"
    },
    {
     "name": "stdout",
     "output_type": "stream",
     "text": [
      "Epoch : 6 \tLoss: 3.436146\n"
     ]
    },
    {
     "data": {
      "application/vnd.jupyter.widget-view+json": {
       "model_id": "951aede9fb584f78b1d13acf0ccd74cd",
       "version_major": 2,
       "version_minor": 0
      },
      "text/plain": [
       "  0%|          | 0/94 [00:00<?, ?it/s]"
      ]
     },
     "metadata": {},
     "output_type": "display_data"
    },
    {
     "name": "stdout",
     "output_type": "stream",
     "text": [
      "Epoch : 7 \tLoss: 3.155729\n"
     ]
    },
    {
     "data": {
      "application/vnd.jupyter.widget-view+json": {
       "model_id": "000a6b23f78c4c54be1cd277b7571112",
       "version_major": 2,
       "version_minor": 0
      },
      "text/plain": [
       "  0%|          | 0/94 [00:00<?, ?it/s]"
      ]
     },
     "metadata": {},
     "output_type": "display_data"
    },
    {
     "name": "stdout",
     "output_type": "stream",
     "text": [
      "Epoch : 8 \tLoss: 2.979477\n"
     ]
    },
    {
     "data": {
      "application/vnd.jupyter.widget-view+json": {
       "model_id": "be3122604eaf4549bb9bf2f90aebae47",
       "version_major": 2,
       "version_minor": 0
      },
      "text/plain": [
       "  0%|          | 0/94 [00:00<?, ?it/s]"
      ]
     },
     "metadata": {},
     "output_type": "display_data"
    },
    {
     "name": "stdout",
     "output_type": "stream",
     "text": [
      "Epoch : 9 \tLoss: 2.842864\n"
     ]
    },
    {
     "data": {
      "application/vnd.jupyter.widget-view+json": {
       "model_id": "9e82c42a1bb8404497c0c85db85f3797",
       "version_major": 2,
       "version_minor": 0
      },
      "text/plain": [
       "  0%|          | 0/94 [00:00<?, ?it/s]"
      ]
     },
     "metadata": {},
     "output_type": "display_data"
    },
    {
     "name": "stdout",
     "output_type": "stream",
     "text": [
      "Epoch : 10 \tLoss: 2.737973\n"
     ]
    },
    {
     "data": {
      "application/vnd.jupyter.widget-view+json": {
       "model_id": "dbbf98bacef84d40a87e6feb2e674a60",
       "version_major": 2,
       "version_minor": 0
      },
      "text/plain": [
       "  0%|          | 0/94 [00:00<?, ?it/s]"
      ]
     },
     "metadata": {},
     "output_type": "display_data"
    },
    {
     "name": "stdout",
     "output_type": "stream",
     "text": [
      "Epoch : 11 \tLoss: 2.656493\n"
     ]
    },
    {
     "data": {
      "application/vnd.jupyter.widget-view+json": {
       "model_id": "b7751d0398684371bb94af6f40ac0753",
       "version_major": 2,
       "version_minor": 0
      },
      "text/plain": [
       "  0%|          | 0/94 [00:00<?, ?it/s]"
      ]
     },
     "metadata": {},
     "output_type": "display_data"
    },
    {
     "name": "stdout",
     "output_type": "stream",
     "text": [
      "Epoch : 12 \tLoss: 2.608373\n"
     ]
    },
    {
     "data": {
      "application/vnd.jupyter.widget-view+json": {
       "model_id": "bd372839f7b347139ccb8cb136de2efb",
       "version_major": 2,
       "version_minor": 0
      },
      "text/plain": [
       "  0%|          | 0/94 [00:00<?, ?it/s]"
      ]
     },
     "metadata": {},
     "output_type": "display_data"
    },
    {
     "name": "stdout",
     "output_type": "stream",
     "text": [
      "Epoch : 13 \tLoss: 2.539995\n"
     ]
    },
    {
     "data": {
      "application/vnd.jupyter.widget-view+json": {
       "model_id": "2190c3c088f249e4bb973d7ffe2a8559",
       "version_major": 2,
       "version_minor": 0
      },
      "text/plain": [
       "  0%|          | 0/94 [00:00<?, ?it/s]"
      ]
     },
     "metadata": {},
     "output_type": "display_data"
    },
    {
     "name": "stdout",
     "output_type": "stream",
     "text": [
      "Epoch : 14 \tLoss: 2.481623\n"
     ]
    },
    {
     "data": {
      "application/vnd.jupyter.widget-view+json": {
       "model_id": "3ea6bf0045a943b399f59ab0ce9af3d9",
       "version_major": 2,
       "version_minor": 0
      },
      "text/plain": [
       "  0%|          | 0/94 [00:00<?, ?it/s]"
      ]
     },
     "metadata": {},
     "output_type": "display_data"
    },
    {
     "name": "stdout",
     "output_type": "stream",
     "text": [
      "Epoch : 15 \tLoss: 2.460877\n"
     ]
    },
    {
     "data": {
      "application/vnd.jupyter.widget-view+json": {
       "model_id": "a45e0b68082c40e79442bd0077cfd3ce",
       "version_major": 2,
       "version_minor": 0
      },
      "text/plain": [
       "  0%|          | 0/94 [00:00<?, ?it/s]"
      ]
     },
     "metadata": {},
     "output_type": "display_data"
    },
    {
     "name": "stdout",
     "output_type": "stream",
     "text": [
      "Epoch : 16 \tLoss: 2.397939\n"
     ]
    },
    {
     "data": {
      "application/vnd.jupyter.widget-view+json": {
       "model_id": "f941e17935894bb7b708e46bfa056a1a",
       "version_major": 2,
       "version_minor": 0
      },
      "text/plain": [
       "  0%|          | 0/94 [00:00<?, ?it/s]"
      ]
     },
     "metadata": {},
     "output_type": "display_data"
    },
    {
     "name": "stdout",
     "output_type": "stream",
     "text": [
      "Epoch : 17 \tLoss: 2.381019\n"
     ]
    },
    {
     "data": {
      "application/vnd.jupyter.widget-view+json": {
       "model_id": "f3454f25c56f45299bb401266e8b3d05",
       "version_major": 2,
       "version_minor": 0
      },
      "text/plain": [
       "  0%|          | 0/94 [00:00<?, ?it/s]"
      ]
     },
     "metadata": {},
     "output_type": "display_data"
    },
    {
     "name": "stdout",
     "output_type": "stream",
     "text": [
      "Epoch : 18 \tLoss: 2.364362\n"
     ]
    },
    {
     "data": {
      "application/vnd.jupyter.widget-view+json": {
       "model_id": "9542af717a144aac8afc236583e7f96c",
       "version_major": 2,
       "version_minor": 0
      },
      "text/plain": [
       "  0%|          | 0/94 [00:00<?, ?it/s]"
      ]
     },
     "metadata": {},
     "output_type": "display_data"
    },
    {
     "name": "stdout",
     "output_type": "stream",
     "text": [
      "Epoch : 19 \tLoss: 2.330446\n"
     ]
    },
    {
     "data": {
      "application/vnd.jupyter.widget-view+json": {
       "model_id": "5964d37ae36c46f68208613be7500740",
       "version_major": 2,
       "version_minor": 0
      },
      "text/plain": [
       "  0%|          | 0/94 [00:00<?, ?it/s]"
      ]
     },
     "metadata": {},
     "output_type": "display_data"
    },
    {
     "name": "stdout",
     "output_type": "stream",
     "text": [
      "Epoch : 20 \tLoss: 2.298560\n"
     ]
    },
    {
     "data": {
      "application/vnd.jupyter.widget-view+json": {
       "model_id": "d92b4c62b9404611bf3e8428bd432bdb",
       "version_major": 2,
       "version_minor": 0
      },
      "text/plain": [
       "  0%|          | 0/94 [00:00<?, ?it/s]"
      ]
     },
     "metadata": {},
     "output_type": "display_data"
    },
    {
     "name": "stdout",
     "output_type": "stream",
     "text": [
      "Epoch : 21 \tLoss: 2.254410\n"
     ]
    },
    {
     "data": {
      "application/vnd.jupyter.widget-view+json": {
       "model_id": "8a8324b9f3fc4b8f91bf37e000696940",
       "version_major": 2,
       "version_minor": 0
      },
      "text/plain": [
       "  0%|          | 0/94 [00:00<?, ?it/s]"
      ]
     },
     "metadata": {},
     "output_type": "display_data"
    },
    {
     "name": "stdout",
     "output_type": "stream",
     "text": [
      "Epoch : 22 \tLoss: 2.268817\n"
     ]
    },
    {
     "data": {
      "application/vnd.jupyter.widget-view+json": {
       "model_id": "8fb2fd645db1437abf24e77d8563ab92",
       "version_major": 2,
       "version_minor": 0
      },
      "text/plain": [
       "  0%|          | 0/94 [00:00<?, ?it/s]"
      ]
     },
     "metadata": {},
     "output_type": "display_data"
    },
    {
     "name": "stdout",
     "output_type": "stream",
     "text": [
      "Epoch : 23 \tLoss: 2.237282\n"
     ]
    },
    {
     "data": {
      "application/vnd.jupyter.widget-view+json": {
       "model_id": "8461d2b541d54c4f9c2230a65f43e8ca",
       "version_major": 2,
       "version_minor": 0
      },
      "text/plain": [
       "  0%|          | 0/94 [00:00<?, ?it/s]"
      ]
     },
     "metadata": {},
     "output_type": "display_data"
    },
    {
     "name": "stdout",
     "output_type": "stream",
     "text": [
      "Epoch : 24 \tLoss: 2.205186\n"
     ]
    },
    {
     "data": {
      "application/vnd.jupyter.widget-view+json": {
       "model_id": "136e61e7de4040149f3ad52a99ea0de2",
       "version_major": 2,
       "version_minor": 0
      },
      "text/plain": [
       "  0%|          | 0/94 [00:00<?, ?it/s]"
      ]
     },
     "metadata": {},
     "output_type": "display_data"
    },
    {
     "name": "stdout",
     "output_type": "stream",
     "text": [
      "Epoch : 25 \tLoss: 2.178618\n"
     ]
    },
    {
     "data": {
      "application/vnd.jupyter.widget-view+json": {
       "model_id": "d3dc7152c4ad4eaaae650e1602237d7e",
       "version_major": 2,
       "version_minor": 0
      },
      "text/plain": [
       "  0%|          | 0/94 [00:00<?, ?it/s]"
      ]
     },
     "metadata": {},
     "output_type": "display_data"
    },
    {
     "name": "stdout",
     "output_type": "stream",
     "text": [
      "Epoch : 26 \tLoss: 2.175752\n"
     ]
    },
    {
     "data": {
      "application/vnd.jupyter.widget-view+json": {
       "model_id": "2f428b96c030456c8338af6b4f11a9db",
       "version_major": 2,
       "version_minor": 0
      },
      "text/plain": [
       "  0%|          | 0/94 [00:00<?, ?it/s]"
      ]
     },
     "metadata": {},
     "output_type": "display_data"
    },
    {
     "name": "stdout",
     "output_type": "stream",
     "text": [
      "Epoch : 27 \tLoss: 2.143454\n"
     ]
    },
    {
     "data": {
      "application/vnd.jupyter.widget-view+json": {
       "model_id": "e4ca12a9f8ea4831b6dab210d1ae4cd2",
       "version_major": 2,
       "version_minor": 0
      },
      "text/plain": [
       "  0%|          | 0/94 [00:00<?, ?it/s]"
      ]
     },
     "metadata": {},
     "output_type": "display_data"
    },
    {
     "name": "stdout",
     "output_type": "stream",
     "text": [
      "Epoch : 28 \tLoss: 2.153057\n"
     ]
    },
    {
     "data": {
      "application/vnd.jupyter.widget-view+json": {
       "model_id": "4d2baf46179146dbb20027247365a550",
       "version_major": 2,
       "version_minor": 0
      },
      "text/plain": [
       "  0%|          | 0/94 [00:00<?, ?it/s]"
      ]
     },
     "metadata": {},
     "output_type": "display_data"
    },
    {
     "name": "stdout",
     "output_type": "stream",
     "text": [
      "Epoch : 29 \tLoss: 2.119218\n"
     ]
    },
    {
     "data": {
      "application/vnd.jupyter.widget-view+json": {
       "model_id": "212532ebbbcf4ce39c8ebe5c56a1a6db",
       "version_major": 2,
       "version_minor": 0
      },
      "text/plain": [
       "  0%|          | 0/94 [00:00<?, ?it/s]"
      ]
     },
     "metadata": {},
     "output_type": "display_data"
    },
    {
     "name": "stdout",
     "output_type": "stream",
     "text": [
      "Epoch : 30 \tLoss: 2.122447\n"
     ]
    },
    {
     "data": {
      "application/vnd.jupyter.widget-view+json": {
       "model_id": "b6bfa3f4fd52409baa0cb3923abfe490",
       "version_major": 2,
       "version_minor": 0
      },
      "text/plain": [
       "  0%|          | 0/94 [00:00<?, ?it/s]"
      ]
     },
     "metadata": {},
     "output_type": "display_data"
    },
    {
     "name": "stdout",
     "output_type": "stream",
     "text": [
      "Epoch : 31 \tLoss: 2.100586\n"
     ]
    },
    {
     "data": {
      "application/vnd.jupyter.widget-view+json": {
       "model_id": "eae31b6dd92e41f3a8eb6d54c2da879d",
       "version_major": 2,
       "version_minor": 0
      },
      "text/plain": [
       "  0%|          | 0/94 [00:00<?, ?it/s]"
      ]
     },
     "metadata": {},
     "output_type": "display_data"
    },
    {
     "name": "stdout",
     "output_type": "stream",
     "text": [
      "Epoch : 32 \tLoss: 2.087347\n"
     ]
    },
    {
     "data": {
      "application/vnd.jupyter.widget-view+json": {
       "model_id": "3c15e806eda847308cfc1de0078eda18",
       "version_major": 2,
       "version_minor": 0
      },
      "text/plain": [
       "  0%|          | 0/94 [00:00<?, ?it/s]"
      ]
     },
     "metadata": {},
     "output_type": "display_data"
    },
    {
     "name": "stdout",
     "output_type": "stream",
     "text": [
      "Epoch : 33 \tLoss: 2.073899\n"
     ]
    },
    {
     "data": {
      "application/vnd.jupyter.widget-view+json": {
       "model_id": "7e7d5d35d5f0444d8e8bea54f9a0fc01",
       "version_major": 2,
       "version_minor": 0
      },
      "text/plain": [
       "  0%|          | 0/94 [00:00<?, ?it/s]"
      ]
     },
     "metadata": {},
     "output_type": "display_data"
    },
    {
     "name": "stdout",
     "output_type": "stream",
     "text": [
      "Epoch : 34 \tLoss: 2.040918\n"
     ]
    },
    {
     "data": {
      "application/vnd.jupyter.widget-view+json": {
       "model_id": "4bf5ddeb1ae94921af8df8f2ec016126",
       "version_major": 2,
       "version_minor": 0
      },
      "text/plain": [
       "  0%|          | 0/94 [00:00<?, ?it/s]"
      ]
     },
     "metadata": {},
     "output_type": "display_data"
    },
    {
     "name": "stdout",
     "output_type": "stream",
     "text": [
      "Epoch : 35 \tLoss: 2.043042\n"
     ]
    },
    {
     "data": {
      "application/vnd.jupyter.widget-view+json": {
       "model_id": "27ca0a9fa9f54e06869f7b9b2084da9c",
       "version_major": 2,
       "version_minor": 0
      },
      "text/plain": [
       "  0%|          | 0/94 [00:00<?, ?it/s]"
      ]
     },
     "metadata": {},
     "output_type": "display_data"
    },
    {
     "name": "stdout",
     "output_type": "stream",
     "text": [
      "Epoch : 36 \tLoss: 2.056960\n"
     ]
    },
    {
     "data": {
      "application/vnd.jupyter.widget-view+json": {
       "model_id": "95be61c02ac24e44ad35759f09270bde",
       "version_major": 2,
       "version_minor": 0
      },
      "text/plain": [
       "  0%|          | 0/94 [00:00<?, ?it/s]"
      ]
     },
     "metadata": {},
     "output_type": "display_data"
    },
    {
     "name": "stdout",
     "output_type": "stream",
     "text": [
      "Epoch : 37 \tLoss: 2.020710\n"
     ]
    },
    {
     "data": {
      "application/vnd.jupyter.widget-view+json": {
       "model_id": "8a59089a364849ea9b99dd348490506e",
       "version_major": 2,
       "version_minor": 0
      },
      "text/plain": [
       "  0%|          | 0/94 [00:00<?, ?it/s]"
      ]
     },
     "metadata": {},
     "output_type": "display_data"
    },
    {
     "name": "stdout",
     "output_type": "stream",
     "text": [
      "Epoch : 38 \tLoss: 2.029440\n"
     ]
    },
    {
     "data": {
      "application/vnd.jupyter.widget-view+json": {
       "model_id": "509e711a17994504b40ff829468793e2",
       "version_major": 2,
       "version_minor": 0
      },
      "text/plain": [
       "  0%|          | 0/94 [00:00<?, ?it/s]"
      ]
     },
     "metadata": {},
     "output_type": "display_data"
    },
    {
     "name": "stdout",
     "output_type": "stream",
     "text": [
      "Epoch : 39 \tLoss: 2.007532\n"
     ]
    },
    {
     "data": {
      "application/vnd.jupyter.widget-view+json": {
       "model_id": "9ec64668c0c946f0b5fbb9bcdc1ea08a",
       "version_major": 2,
       "version_minor": 0
      },
      "text/plain": [
       "  0%|          | 0/94 [00:00<?, ?it/s]"
      ]
     },
     "metadata": {},
     "output_type": "display_data"
    },
    {
     "name": "stdout",
     "output_type": "stream",
     "text": [
      "Epoch : 40 \tLoss: 1.997710\n"
     ]
    },
    {
     "data": {
      "application/vnd.jupyter.widget-view+json": {
       "model_id": "adacb93b60014574a36c4e3c98920534",
       "version_major": 2,
       "version_minor": 0
      },
      "text/plain": [
       "  0%|          | 0/94 [00:00<?, ?it/s]"
      ]
     },
     "metadata": {},
     "output_type": "display_data"
    },
    {
     "name": "stdout",
     "output_type": "stream",
     "text": [
      "Epoch : 41 \tLoss: 1.973404\n"
     ]
    },
    {
     "data": {
      "application/vnd.jupyter.widget-view+json": {
       "model_id": "78fabf2d927943dfa4713646d45bb412",
       "version_major": 2,
       "version_minor": 0
      },
      "text/plain": [
       "  0%|          | 0/94 [00:00<?, ?it/s]"
      ]
     },
     "metadata": {},
     "output_type": "display_data"
    },
    {
     "name": "stdout",
     "output_type": "stream",
     "text": [
      "Epoch : 42 \tLoss: 1.987320\n"
     ]
    },
    {
     "data": {
      "application/vnd.jupyter.widget-view+json": {
       "model_id": "f1497568167f4537a0701bb99e37bed2",
       "version_major": 2,
       "version_minor": 0
      },
      "text/plain": [
       "  0%|          | 0/94 [00:00<?, ?it/s]"
      ]
     },
     "metadata": {},
     "output_type": "display_data"
    },
    {
     "name": "stdout",
     "output_type": "stream",
     "text": [
      "Epoch : 43 \tLoss: 1.977715\n"
     ]
    },
    {
     "data": {
      "application/vnd.jupyter.widget-view+json": {
       "model_id": "f4b074b10fd34b44971f2d922faa5f14",
       "version_major": 2,
       "version_minor": 0
      },
      "text/plain": [
       "  0%|          | 0/94 [00:00<?, ?it/s]"
      ]
     },
     "metadata": {},
     "output_type": "display_data"
    },
    {
     "name": "stdout",
     "output_type": "stream",
     "text": [
      "Epoch : 44 \tLoss: 1.974052\n"
     ]
    },
    {
     "data": {
      "application/vnd.jupyter.widget-view+json": {
       "model_id": "621c662be80440fcb6fa94957fe8caaa",
       "version_major": 2,
       "version_minor": 0
      },
      "text/plain": [
       "  0%|          | 0/94 [00:00<?, ?it/s]"
      ]
     },
     "metadata": {},
     "output_type": "display_data"
    },
    {
     "name": "stdout",
     "output_type": "stream",
     "text": [
      "Epoch : 45 \tLoss: 1.952775\n"
     ]
    },
    {
     "data": {
      "application/vnd.jupyter.widget-view+json": {
       "model_id": "5876d70d6b144cb58846ea1dbe871ccc",
       "version_major": 2,
       "version_minor": 0
      },
      "text/plain": [
       "  0%|          | 0/94 [00:00<?, ?it/s]"
      ]
     },
     "metadata": {},
     "output_type": "display_data"
    },
    {
     "name": "stdout",
     "output_type": "stream",
     "text": [
      "Epoch : 46 \tLoss: 1.934588\n"
     ]
    },
    {
     "data": {
      "application/vnd.jupyter.widget-view+json": {
       "model_id": "ac80211482304fe4927e3171e35afd85",
       "version_major": 2,
       "version_minor": 0
      },
      "text/plain": [
       "  0%|          | 0/94 [00:00<?, ?it/s]"
      ]
     },
     "metadata": {},
     "output_type": "display_data"
    },
    {
     "name": "stdout",
     "output_type": "stream",
     "text": [
      "Epoch : 47 \tLoss: 1.949928\n"
     ]
    },
    {
     "data": {
      "application/vnd.jupyter.widget-view+json": {
       "model_id": "30f51b90743d409084cdd4cdda287e7c",
       "version_major": 2,
       "version_minor": 0
      },
      "text/plain": [
       "  0%|          | 0/94 [00:00<?, ?it/s]"
      ]
     },
     "metadata": {},
     "output_type": "display_data"
    },
    {
     "name": "stdout",
     "output_type": "stream",
     "text": [
      "Epoch : 48 \tLoss: 1.915082\n"
     ]
    },
    {
     "data": {
      "application/vnd.jupyter.widget-view+json": {
       "model_id": "7c2c799bf24f425d8ff942d29dae1f10",
       "version_major": 2,
       "version_minor": 0
      },
      "text/plain": [
       "  0%|          | 0/94 [00:00<?, ?it/s]"
      ]
     },
     "metadata": {},
     "output_type": "display_data"
    },
    {
     "name": "stdout",
     "output_type": "stream",
     "text": [
      "Epoch : 49 \tLoss: 1.922731\n"
     ]
    }
   ],
   "source": [
    "fit(model,trainloader)"
   ]
  },
  {
   "cell_type": "markdown",
   "metadata": {},
   "source": [
    "# The Evaluate Results"
   ]
  },
  {
   "cell_type": "code",
   "execution_count": 13,
   "metadata": {},
   "outputs": [
    {
     "ename": "RuntimeError",
     "evalue": "PytorchStreamReader failed reading zip archive: failed finding central directory",
     "output_type": "error",
     "traceback": [
      "\u001b[0;31m---------------------------------------------------------------------------\u001b[0m",
      "\u001b[0;31mRuntimeError\u001b[0m                              Traceback (most recent call last)",
      "\u001b[1;32m/space/hotel/trit/Study/AutoEncoder_MNIST.ipynb Cell 24\u001b[0m line \u001b[0;36m<module>\u001b[0;34m\u001b[0m\n\u001b[0;32m----> <a href='vscode-notebook-cell://ssh-remote%2B172.16.87.75/space/hotel/trit/Study/AutoEncoder_MNIST.ipynb#X32sdnNjb2RlLXJlbW90ZQ%3D%3D?line=0'>1</a>\u001b[0m model\u001b[39m.\u001b[39mload_state_dict(torch\u001b[39m.\u001b[39;49mload(\u001b[39m'\u001b[39;49m\u001b[39m./Best_weight.pth\u001b[39;49m\u001b[39m'\u001b[39;49m))\n\u001b[1;32m      <a href='vscode-notebook-cell://ssh-remote%2B172.16.87.75/space/hotel/trit/Study/AutoEncoder_MNIST.ipynb#X32sdnNjb2RlLXJlbW90ZQ%3D%3D?line=1'>2</a>\u001b[0m state_dict \u001b[39m=\u001b[39m model\u001b[39m.\u001b[39mstate_dict()\n",
      "File \u001b[0;32m/usr/local/lib/python3.9/dist-packages/torch/serialization.py:600\u001b[0m, in \u001b[0;36mload\u001b[0;34m(f, map_location, pickle_module, **pickle_load_args)\u001b[0m\n\u001b[1;32m    595\u001b[0m \u001b[39mif\u001b[39;00m _is_zipfile(opened_file):\n\u001b[1;32m    596\u001b[0m     \u001b[39m# The zipfile reader is going to advance the current file position.\u001b[39;00m\n\u001b[1;32m    597\u001b[0m     \u001b[39m# If we want to actually tail call to torch.jit.load, we need to\u001b[39;00m\n\u001b[1;32m    598\u001b[0m     \u001b[39m# reset back to the original position.\u001b[39;00m\n\u001b[1;32m    599\u001b[0m     orig_position \u001b[39m=\u001b[39m opened_file\u001b[39m.\u001b[39mtell()\n\u001b[0;32m--> 600\u001b[0m     \u001b[39mwith\u001b[39;00m _open_zipfile_reader(opened_file) \u001b[39mas\u001b[39;00m opened_zipfile:\n\u001b[1;32m    601\u001b[0m         \u001b[39mif\u001b[39;00m _is_torchscript_zip(opened_zipfile):\n\u001b[1;32m    602\u001b[0m             warnings\u001b[39m.\u001b[39mwarn(\u001b[39m\"\u001b[39m\u001b[39m'\u001b[39m\u001b[39mtorch.load\u001b[39m\u001b[39m'\u001b[39m\u001b[39m received a zip file that looks like a TorchScript archive\u001b[39m\u001b[39m\"\u001b[39m\n\u001b[1;32m    603\u001b[0m                           \u001b[39m\"\u001b[39m\u001b[39m dispatching to \u001b[39m\u001b[39m'\u001b[39m\u001b[39mtorch.jit.load\u001b[39m\u001b[39m'\u001b[39m\u001b[39m (call \u001b[39m\u001b[39m'\u001b[39m\u001b[39mtorch.jit.load\u001b[39m\u001b[39m'\u001b[39m\u001b[39m directly to\u001b[39m\u001b[39m\"\u001b[39m\n\u001b[1;32m    604\u001b[0m                           \u001b[39m\"\u001b[39m\u001b[39m silence this warning)\u001b[39m\u001b[39m\"\u001b[39m, \u001b[39mUserWarning\u001b[39;00m)\n",
      "File \u001b[0;32m/usr/local/lib/python3.9/dist-packages/torch/serialization.py:242\u001b[0m, in \u001b[0;36m_open_zipfile_reader.__init__\u001b[0;34m(self, name_or_buffer)\u001b[0m\n\u001b[1;32m    241\u001b[0m \u001b[39mdef\u001b[39;00m \u001b[39m__init__\u001b[39m(\u001b[39mself\u001b[39m, name_or_buffer) \u001b[39m-\u001b[39m\u001b[39m>\u001b[39m \u001b[39mNone\u001b[39;00m:\n\u001b[0;32m--> 242\u001b[0m     \u001b[39msuper\u001b[39m(_open_zipfile_reader, \u001b[39mself\u001b[39m)\u001b[39m.\u001b[39m\u001b[39m__init__\u001b[39m(torch\u001b[39m.\u001b[39;49m_C\u001b[39m.\u001b[39;49mPyTorchFileReader(name_or_buffer))\n",
      "\u001b[0;31mRuntimeError\u001b[0m: PytorchStreamReader failed reading zip archive: failed finding central directory"
     ]
    }
   ],
   "source": [
    "model.load_state_dict(torch.load('./Best_weight.pth'))\n",
    "state_dict = model.state_dict()"
   ]
  },
  {
   "cell_type": "code",
   "execution_count": 26,
   "metadata": {},
   "outputs": [],
   "source": [
    "model.eval()\n",
    "with torch.no_grad():\n",
    "    for test_imgs in test_loader:\n",
    "        break\n",
    "\n",
    "    test_imgs = Variable(test_imgs).float().to(device)\n",
    "    fake_imgs = model(test_imgs)\n"
   ]
  },
  {
   "cell_type": "code",
   "execution_count": 27,
   "metadata": {},
   "outputs": [
    {
     "data": {
      "image/png": "[encoded data removed]",
      "text/plain": [
       "<Figure size 1080x360 with 20 Axes>"
      ]
     },
     "metadata": {
      "needs_background": "light"
     },
     "output_type": "display_data"
    }
   ],
   "source": [
    "import random\n",
    "fake_imgs = (fake_imgs.cpu().numpy()*std) + mean\n",
    "test_imgs = (test_imgs.cpu().numpy()*std) + mean\n",
    "num_samples_to_plot = 10\n",
    "indices_to_plot = random.sample(range(len(fake_imgs)), num_samples_to_plot)\n",
    "fig, axs = plt.subplots(2, num_samples_to_plot, figsize=(15, 5))\n",
    "\n",
    "for i, idx in enumerate(indices_to_plot):\n",
    "    fake_img = fake_imgs[idx]\n",
    "    test_img = test_imgs[idx]\n",
    "\n",
    "    axs[1, i].imshow(fake_img[0], cmap='gray')  # Assuming the images are grayscale\n",
    "    axs[1, i].set_title('Fake Image')\n",
    "\n",
    "    axs[0, i].imshow(test_img[0], cmap='gray')  # Assuming the images are grayscale\n",
    "    axs[0, i].set_title('Real Image')\n",
    "\n",
    "# Hide the x and y ticks for all subplots\n",
    "for ax in axs.ravel():\n",
    "    ax.axis('off')\n",
    "\n",
    "plt.show()\n"
   ]
  },
  {
   "cell_type": "code",
   "execution_count": 28,
   "metadata": {},
   "outputs": [],
   "source": [
    "# Extract the decoder from your 'AE' model\n",
    "decoder_model = model.decoder\n",
    "encoder_model = model.encoder\n"
   ]
  },
  {
   "cell_type": "code",
   "execution_count": 29,
   "metadata": {},
   "outputs": [
    {
     "name": "stdout",
     "output_type": "stream",
     "text": [
      "tensor([[ -613.2687,   284.7115,   708.8485,   270.3345,   -88.4408,  -246.9651,\n",
      "           114.3930,   195.4268,   208.5508,   419.3686,   188.9114,  -209.8627,\n",
      "          -429.8474,  -466.6710,  -442.3285,   429.9695,   168.0609,  -326.8277,\n",
      "           233.9981,   934.8972,    59.6936,   -12.1343,    34.1171,   157.9160,\n",
      "           360.9334,   102.8631,  -628.1505,    52.3554,   134.1058,    22.9643,\n",
      "           271.1779,   157.5600],\n",
      "        [  -86.2105,  -385.9734,   697.4398,  -201.6272,   200.4761,  -322.5945,\n",
      "          -669.4662,    97.9900,   433.3500,   273.7502,   353.1738,  -116.4512,\n",
      "          -439.1257,    94.5350,   752.7126,   426.9158,   114.9558,  -426.3748,\n",
      "          -438.6568,   317.2352,   -65.3406,   232.4801,   200.9922,  -137.0525,\n",
      "          -380.0219,  -164.3215,  -946.1644,  -474.7784,  -191.3195,   -62.0545,\n",
      "           319.1205,   291.4200],\n",
      "        [  488.3932,   -41.6292,   399.2448,   312.3319,   580.5169,   596.5911,\n",
      "           250.0112,   -98.7582,   -23.8158,   185.8858,   492.7705,  -453.6050,\n",
      "           455.0893,  -312.2219,     8.8431,   183.1161,  -351.1893, -1211.7632,\n",
      "          -309.0909,  -204.4299,   890.3387,  -154.2596,   201.2153,  -561.0344,\n",
      "           544.3257,    61.7101,  -131.5059,  -250.5984,   421.5690,  -228.5128,\n",
      "           664.6011,   -63.7505],\n",
      "        [ -366.3653,  -574.6693,   414.4714,   143.0007,  -197.2737,  -117.4989,\n",
      "          -335.1689,   676.5035,  -325.5189,  -234.3796,  -304.6604,  -134.8391,\n",
      "          -574.2227,  -433.8782,   212.3680,  -450.1797,   262.7631,   -82.8103,\n",
      "           319.2263,    29.9051,    97.1358,    -8.9110,   556.5259,   157.9115,\n",
      "          -198.0223,  -319.9709,   203.4704,   -11.5260,  -166.9094,   -33.7221,\n",
      "           625.6030,     2.8244],\n",
      "        [  310.6289,   106.2721,   736.1120,   557.0108,   112.7027,   484.8014,\n",
      "           702.9274,   624.2314,  -107.3021,  -538.9222,   141.3965,   -98.4773,\n",
      "          -489.1411,  -335.1076,   283.0316,   -69.1284,   187.9734,  -389.0709,\n",
      "           -73.9508,  -110.4970,   666.0693,    25.6139,    62.2367,  -255.9761,\n",
      "           393.9221,   222.7540,   503.3376,   -12.8144,   605.0243,   125.8549,\n",
      "           517.5178,   -93.1924],\n",
      "        [ -276.7416,  -189.0016,  -117.9272,   335.8107,   780.0131,   -66.3069,\n",
      "          -696.8607,   158.9260,   -89.0365,  -528.6429,    27.4461,   -47.6627,\n",
      "           175.5619,  -611.4507,  -199.6372,   238.5880,    51.9711,  -547.8903,\n",
      "           296.5492,  -187.7301,  -123.8486,   338.2276,   363.7748,   -97.4254,\n",
      "           -88.3279,  -308.3148,   -95.0479,    19.3129,  -378.1531,    14.2378,\n",
      "           332.1096,   286.0208],\n",
      "        [   29.2558,     9.2382,   366.3322,   293.4815,   118.9783,   141.3775,\n",
      "          -332.7839,   113.9340,  -242.4066,  -318.5287,    95.8176,   325.0344,\n",
      "          -427.1030,  -168.9142,  -202.6718,   -32.0934,   370.6432,  -716.5724,\n",
      "           498.7335,  -855.4788,   196.3353,  -420.8432,   110.3909,   217.4105,\n",
      "          -551.9266,  -163.7191,   105.7688,  -127.0581,   472.4852,   116.7861,\n",
      "           720.8251,   130.4208],\n",
      "        [ -155.0580,   186.1915,   131.4767,  -433.6829,    39.0112,  -190.0848,\n",
      "           389.3850,   180.8031,   -95.6838,     6.1972,   306.0710,  -557.2413,\n",
      "          -530.4147,   -58.8740,  -159.0232,   244.4796,     4.7853,  -251.8368,\n",
      "          -244.9418,   233.4243,   105.4889,   333.5358,  -289.5557,   481.9052,\n",
      "          -184.9886,  -389.2752,    37.3810,  -199.6553,   494.1141,   638.8231,\n",
      "           426.3221,   102.1009],\n",
      "        [ -193.2319,   168.4026,   221.6772,   332.7158,    37.9580,    65.6202,\n",
      "          -565.5784,   192.8477,  -101.8540,    93.6516,   310.4915,  -374.6175,\n",
      "          -415.0268,   -13.4990,  1057.7429,   183.9493,   466.7327,  -422.8665,\n",
      "           196.0571,  -411.7760,   216.8200,   378.0569,   114.7776,   379.0266,\n",
      "           -67.9649,  -379.9232,  -731.8157,  -251.8631,    82.8153,   -36.3987,\n",
      "           515.6664,   128.7850],\n",
      "        [ -675.6980,  -366.3311,   758.8300,   538.7714,   490.3938,   -99.0187,\n",
      "          -935.4300,    36.0659,    46.6967,  -345.6588,   117.2978,    40.8515,\n",
      "            65.8853,   126.8686,    56.4482,   312.9968,   167.3224,  -913.6458,\n",
      "           295.6233,  -463.1676,    67.8572,  -213.8867,   165.3965,   202.6072,\n",
      "          -516.1177,   -21.5231,  -243.1208,    10.6330,   200.0037,   233.2013,\n",
      "           212.1954,    17.7297],\n",
      "        [ -253.4147,   170.7402,   696.9888,   441.5371,  -183.9888,   -24.4856,\n",
      "           660.7485,   298.0160,  -301.2318,  -161.9394,   338.9303,  -320.8034,\n",
      "            -8.9928,  -313.7996,   429.3210,   -42.8614,   364.2682,  -474.0775,\n",
      "           272.2641,   -79.6874,   913.6428,   209.2907,   -50.8788,   131.6910,\n",
      "           146.7126,   400.1782,   341.0896,   292.9250,   526.0493,   150.4376,\n",
      "           803.8732,   -43.0981],\n",
      "        [ -277.2078,   609.0129,   511.5396,  -102.7212,  -187.9427,  -318.0871,\n",
      "           585.7603,   319.8554,  -284.4581,  -504.6052,   349.4964,  -105.4648,\n",
      "          -121.7887,     7.4603,   251.1992,   486.5406,   -53.8600,  -116.7115,\n",
      "           -53.6478,   630.7119,   333.1787,   235.7794,  -201.9482,  -373.9185,\n",
      "            58.0966,  -404.3215,    64.5441,  -146.8881,   125.2908,  -349.4009,\n",
      "           735.2292,   489.2816],\n",
      "        [ -286.3274,  -244.6963,    48.4366,   -12.4082,  -441.5651,  -168.6888,\n",
      "          -304.2923,   174.3130,   590.7260,    -6.5093,   224.1644,   163.3551,\n",
      "          -186.2940,  -239.4842,  -430.5223,   128.4511,   220.5798,  -413.3906,\n",
      "           474.4086,   114.5625,  -478.0301,   396.0677,  -248.6197,  -119.9859,\n",
      "           145.6031,   274.5067,   140.3468,   -93.4021,   505.9617,  -273.0476,\n",
      "           572.0608,   617.3129],\n",
      "        [ -378.3218,   179.2034,   174.0034,  -337.5226,  -815.7546,   204.1778,\n",
      "          -443.6700,   135.8916,   195.4538,   452.3804,  -140.0093,   196.4458,\n",
      "           154.8633,  -441.8254,  -766.0403,    32.8091,  -238.9432,  -380.5867,\n",
      "           506.3306,   258.6671,  -420.0054,   658.6317,   141.8275,   202.6658,\n",
      "          -183.2110,    47.9332,    84.5257,   -25.3031,    29.7165,  -110.4586,\n",
      "           345.5954,   268.0800],\n",
      "        [  514.7640,  -408.8361,   180.2579,   138.7654,   275.0457,   238.6873,\n",
      "          -406.1381,  -367.2215,   358.1573,  -476.9165,   951.8116,    58.1997,\n",
      "           675.1111,    66.2497,  -438.1160,   112.9421,   192.7728,  -581.7548,\n",
      "          -314.0452,  -611.7615,   747.6478,  -143.6709,   -21.4609,   175.6631,\n",
      "          -370.6578,   161.6488,   183.1249,    36.7753,  -213.9065,   613.1784,\n",
      "           235.0135,  -370.0024],\n",
      "        [ -276.7319,   528.5663,   955.9709,   122.5033, -1198.9890,   754.1882,\n",
      "          -270.4647,   -37.0031,   776.7162,   396.5598,   209.8663,    98.4537,\n",
      "           578.8380,   149.9693,  -563.1426,  -122.2274,  -394.7567,  -158.9247,\n",
      "           -54.7377,   449.5219,  -286.9915,    57.5624,  -411.9218,   393.1144,\n",
      "           233.0143,  -317.3951,   -46.8722,   -13.9386,   266.0378,  -117.0803,\n",
      "           551.1081,   379.6173],\n",
      "        [ -300.6356,     1.4050,  -171.3093,    22.5552,   275.6028,   -15.3837,\n",
      "           -31.4345,    80.6666,  -588.7675,   260.4905,     4.6031,   250.1510,\n",
      "           684.5944,     9.9155,  -147.4980,   192.5462,   194.5019,  -447.5875,\n",
      "           121.5053,   155.0341,  -190.2387,   226.4633,   254.6955,   468.9476,\n",
      "          -480.7871,  -567.1078,    70.9945,  -255.2944,   -13.7247,    32.2119,\n",
      "           746.5414,   153.9596],\n",
      "        [ -117.5089,   239.8599,    18.0990,   105.1618,   353.6322,   -30.2810,\n",
      "          -495.7541,    54.0811,   206.5967,   413.2046,  -576.4567,  -124.2038,\n",
      "           304.5218,   312.2054,   -38.2521,   432.3495,   -84.7915,  -371.3416,\n",
      "          -121.6917,   343.4604,  -876.1489,   309.4273,  -365.0501,   287.3397,\n",
      "           535.1641,   242.0461,   320.6302, -1104.9630,  -473.3328,   367.3527,\n",
      "           148.0788,   187.5528],\n",
      "        [  111.4243,   -75.0682,  -117.4239,  -364.7103,   673.8201,  -402.3514,\n",
      "           156.9185,   155.1461,   214.3775,  -409.9495,   339.4794,   -47.1425,\n",
      "            60.3023,   264.1530,   619.6122,   119.0524,  -550.7855,   -71.2634,\n",
      "          -223.3831,  -164.8658,   179.2146,   363.8527,    91.8686,  -437.1241,\n",
      "           214.6158,  -819.4766,  -248.0208,  -430.8900,  -177.2561,   186.2975,\n",
      "           739.0969,    26.0693],\n",
      "        [ -427.1678,  -360.9552,   544.9779,  -262.2370,   310.3291,  -123.9098,\n",
      "           228.2852,  -344.3933,   755.5245,   126.4657,   101.1714,  -138.0783,\n",
      "           -65.5038,   510.7940,   525.4536,   112.4410,   406.4939,   430.3826,\n",
      "           -39.2734,  -316.9192,   130.3473,   242.1711,   204.7208,    10.5682,\n",
      "          -368.4004,  -291.7131,  -240.9126,   339.9918,   -40.7116,   136.1147,\n",
      "           931.4339,    21.8876]], device='cuda:0')\n"
     ]
    },
    {
     "data": {
      "text/plain": [
       "torch.Size([20, 32])"
      ]
     },
     "execution_count": 29,
     "metadata": {},
     "output_type": "execute_result"
    }
   ],
   "source": [
    "encoder_model.eval()\n",
    "with torch.no_grad():\n",
    "    for test_imgs in test_loader:\n",
    "        break\n",
    "    image = test_imgs\n",
    "    test_imgs = Variable(test_imgs).float().to(device)\n",
    "    latent_codes = encoder_model(test_imgs)\n",
    "\n",
    "print(latent_codes)\n",
    "\n",
    "latent_codes.shape"
   ]
  },
  {
   "cell_type": "code",
   "execution_count": 30,
   "metadata": {},
   "outputs": [],
   "source": [
    "decoder_model.eval()\n",
    "with torch.no_grad():\n",
    "        latent_codes = Variable(latent_codes).float().to(device)\n",
    "        fake_img = decoder_model(latent_codes)\n"
   ]
  },
  {
   "cell_type": "code",
   "execution_count": 31,
   "metadata": {},
   "outputs": [
    {
     "data": {
      "text/plain": [
       "torch.Size([20, 1, 28, 28])"
      ]
     },
     "execution_count": 31,
     "metadata": {},
     "output_type": "execute_result"
    }
   ],
   "source": [
    "fake_img.shape"
   ]
  },
  {
   "cell_type": "code",
   "execution_count": 32,
   "metadata": {},
   "outputs": [
    {
     "data": {
      "text/plain": [
       "torch.Size([20, 1, 28, 28])"
      ]
     },
     "execution_count": 32,
     "metadata": {},
     "output_type": "execute_result"
    }
   ],
   "source": [
    "image.shape"
   ]
  },
  {
   "cell_type": "code",
   "execution_count": 33,
   "metadata": {},
   "outputs": [
    {
     "data": {
      "image/png": "[encoded data removed]",
      "text/plain": [
       "<Figure size 864x432 with 40 Axes>"
      ]
     },
     "metadata": {
      "needs_background": "light"
     },
     "output_type": "display_data"
    }
   ],
   "source": [
    "# Define the number of rows and columns for subplots\n",
    "rows, cols = 4, 10  # Assuming you want to create a 4x10 grid\n",
    "\n",
    "plt.figure(figsize=(12, 6))\n",
    "\n",
    "for i in range(20):\n",
    "    # Convert the tensors to NumPy arrays and reshape if necessary\n",
    "    fake_img_np = (fake_img[i].squeeze().cpu().numpy() * std) + mean\n",
    "    image_np = (image[i].squeeze().cpu().numpy()  * std) + mean\n",
    "\n",
    "    # Plot the original image\n",
    "    plt.subplot(rows, cols, i + 1)\n",
    "    plt.imshow(image_np, cmap='gray')\n",
    "    plt.title(f'Original {i+1}')\n",
    "    plt.axis('off')\n",
    "\n",
    "    # Plot the fake image for comparison\n",
    "    plt.subplot(rows, cols, i + 1 + 20)\n",
    "    plt.imshow(fake_img_np, cmap='gray')\n",
    "    plt.title(f'Fake {i+1}')\n",
    "    plt.axis('off')\n",
    "\n",
    "plt.tight_layout()\n",
    "plt.show()"
   ]
  },
  {
   "cell_type": "code",
   "execution_count": 34,
   "metadata": {},
   "outputs": [
    {
     "data": {
      "text/plain": [
       "torch.float32"
      ]
     },
     "execution_count": 34,
     "metadata": {},
     "output_type": "execute_result"
    }
   ],
   "source": [
    "latent_codes.dtype"
   ]
  },
  {
   "cell_type": "code",
   "execution_count": null,
   "metadata": {},
   "outputs": [],
   "source": []
  }
 ],
 "metadata": {
  "kernelspec": {
   "display_name": "Python 3",
   "language": "python",
   "name": "python3"
  },
  "language_info": {
   "codemirror_mode": {
    "name": "ipython",
    "version": 3
   },
   "file_extension": ".py",
   "mimetype": "text/x-python",
   "name": "python",
   "nbconvert_exporter": "python",
   "pygments_lexer": "ipython3",
   "version": "3.9.2"
  }
 },
 "nbformat": 4,
 "nbformat_minor": 2
}
